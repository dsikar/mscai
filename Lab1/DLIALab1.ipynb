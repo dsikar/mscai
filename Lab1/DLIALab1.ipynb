{
 "cells": [
  {
   "cell_type": "code",
   "execution_count": 24,
   "metadata": {},
   "outputs": [
    {
     "name": "stdout",
     "output_type": "stream",
     "text": [
      "###############################################   LAB 1   ##############################################\n",
      "################### Script written by Dr Alex Ter-Sarkisov@City, University of London, 2022 ############\n",
      "#####################   DEEP LEARNING FOR IMAGE ANALYSIS, MSC IN ARTIFICIAL INTELLIGENCE    ############\n",
      "########################################################################################################\n"
     ]
    }
   ],
   "source": [
    "print('###############################################   LAB 1   ##############################################')\n",
    "print('################### Script written by Dr Alex Ter-Sarkisov@City, University of London, 2022 ############')\n",
    "print('#####################   DEEP LEARNING FOR IMAGE ANALYSIS, MSC IN ARTIFICIAL INTELLIGENCE    ############')\n",
    "print('########################################################################################################')\n",
    "import numpy as np\n",
    "import torch.optim as optim\n",
    "import os,sys, re, time\n",
    "import PIL\n",
    "from PIL import Image as PILImage\n",
    "import torch\n",
    "import torchvision\n",
    "import torch.nn as nn\n",
    "import torch.utils.data as data\n",
    "import pandas\n",
    "#import skimage\n",
    "import torchvision\n",
    "import sklearn\n",
    "import matplotlib\n",
    "import matplotlib.pyplot as plt\n",
    "%matplotlib inline\n",
    "from IPython.display import display, HTML\n",
    "\n"
   ]
  },
  {
   "cell_type": "code",
   "execution_count": 25,
   "metadata": {},
   "outputs": [],
   "source": [
    "# There are several ways to access all parameters of the model:\n",
    "# 1. using state_dict() command, to get the ordered dictionary of weights with their names:\n",
    "# model.state_dict()\n",
    "#\n",
    "# 2. using parameters() command, to get the generator of parameters without their names (incl. non-trainable)\n",
    "# model.parameters() \n",
    "#\n",
    "# 3. using named_parameters() command, to access all parameters with their names\n",
    "# model.named_parameters()"
   ]
  },
  {
   "cell_type": "code",
   "execution_count": 26,
   "metadata": {},
   "outputs": [
    {
     "name": "stdout",
     "output_type": "stream",
     "text": [
      "Matplotlib 3.5.1\n",
      "Numpy 1.19.5\n",
      "Torch 1.9.0+cu102\n",
      "Torchvision 0.11.1\n",
      "Pandas 1.3.1\n",
      "PIL 8.4.0\n",
      "Torchvision 0.11.1\n",
      "Scikit-Learn 1.0.1\n"
     ]
    }
   ],
   "source": [
    "print(\"Matplotlib\", matplotlib.__version__)\n",
    "print(\"Numpy\", np.__version__)\n",
    "print(\"Torch\", torch.__version__)\n",
    "print(\"Torchvision\", torchvision.__version__)\n",
    "print(\"Pandas\", pandas.__version__)\n",
    "#print(\"Scikit-Img\", skimage.__version__)\n",
    "print(\"PIL\", PIL.__version__)\n",
    "print(\"Torchvision\", torchvision.__version__)\n",
    "print(\"Scikit-Learn\", sklearn.__version__)"
   ]
  },
  {
   "cell_type": "code",
   "execution_count": 27,
   "metadata": {},
   "outputs": [],
   "source": [
    "start =  time.time()"
   ]
  },
  {
   "cell_type": "code",
   "execution_count": 28,
   "metadata": {},
   "outputs": [
    {
     "name": "stdout",
     "output_type": "stream",
     "text": [
      "Using cpu\n"
     ]
    }
   ],
   "source": [
    "device = torch.device('cpu')\n",
    "\n",
    "#if torch.cuda.is_available():\n",
    "#   device = torch.device('cuda')\n",
    "print(\"Using {:}\".format(device))"
   ]
  },
  {
   "cell_type": "code",
   "execution_count": 29,
   "metadata": {},
   "outputs": [],
   "source": [
    "# Sanity check - simple model using Pytorch NN functionality\n",
    "# Exercise (suggested): \n",
    "# Initialize the model using layers_list, the result will be a bit different (positional)\n",
    "# Two ways to access the model's layers\n",
    "from collections import OrderedDict\n",
    "\n",
    "layers_dict = OrderedDict([('l1', nn.Linear(10,20)),('l2', nn.Linear(20,1)),])\n",
    "layers_list = [nn.Linear(10,20, bias=True), nn.Linear(20,1, bias=False)]\n",
    "\n",
    "class BaseModel(nn.Sequential):\n",
    "      def __init__(self):\n",
    "            super(BaseModel, self).__init__(layers_dict)\n",
    "     "
   ]
  },
  {
   "cell_type": "code",
   "execution_count": 30,
   "metadata": {
    "scrolled": true
   },
   "outputs": [
    {
     "name": "stdout",
     "output_type": "stream",
     "text": [
      "BaseModel(\n",
      "  (l1): Linear(in_features=10, out_features=20, bias=True)\n",
      "  (l2): Linear(in_features=20, out_features=1, bias=True)\n",
      ")\n",
      "########## ordered dictionary ########\n",
      "odict_keys(['l1', 'l2'])\n",
      "Parameter containing:\n",
      "tensor([-0.2660, -0.1207,  0.2664,  0.2361, -0.2146,  0.0206,  0.0168, -0.0099,\n",
      "        -0.2970,  0.0196,  0.1545,  0.1995,  0.0480, -0.1751, -0.2634, -0.1273,\n",
      "         0.3049, -0.2517, -0.1787, -0.0283], requires_grad=True)\n",
      "\n",
      "########## number ########\n",
      "Parameter containing:\n",
      "tensor([-0.2660, -0.1207,  0.2664,  0.2361, -0.2146,  0.0206,  0.0168, -0.0099,\n",
      "        -0.2970,  0.0196,  0.1545,  0.1995,  0.0480, -0.1751, -0.2634, -0.1273,\n",
      "         0.3049, -0.2517, -0.1787, -0.0283], requires_grad=True)\n",
      "\n",
      "########## generator ########\n",
      "Parameter containing:\n",
      "tensor([[ 4.1357e-02,  1.9297e-01,  1.1979e-02, -9.6934e-02, -1.1796e-01,\n",
      "          3.0731e-01,  1.3173e-01,  2.7765e-01, -2.9373e-01, -2.5905e-01],\n",
      "        [ 1.1932e-01,  2.2357e-01,  1.3876e-01,  1.5197e-01,  2.5995e-01,\n",
      "         -1.7508e-01,  2.1969e-01, -2.7093e-01, -2.1625e-01, -1.9269e-01],\n",
      "        [-1.6822e-01, -1.2492e-01,  8.6973e-03, -1.6718e-01, -3.7995e-02,\n",
      "          1.4630e-01, -2.0770e-01, -1.4239e-01,  2.5549e-01,  1.6988e-01],\n",
      "        [ 8.0449e-02,  1.3714e-01, -2.9992e-01,  1.8491e-01,  2.3892e-01,\n",
      "         -9.9368e-02,  1.8337e-01, -2.6283e-01, -1.8300e-01,  2.6140e-01],\n",
      "        [-2.3018e-01, -9.8624e-02,  2.2335e-01,  8.9909e-02, -1.0640e-01,\n",
      "         -2.3202e-01, -9.7103e-02, -1.1245e-01, -9.8613e-03,  2.4308e-01],\n",
      "        [ 1.5991e-02,  1.6595e-01, -1.7022e-01,  1.9609e-01, -2.1252e-01,\n",
      "         -9.2733e-02, -6.0199e-02, -2.0314e-01, -1.5208e-01,  2.5323e-03],\n",
      "        [ 2.0384e-01,  3.0606e-01,  2.0828e-01, -1.3135e-01,  1.0915e-01,\n",
      "         -2.1644e-01,  1.7251e-01,  6.0735e-02, -2.8114e-01, -1.5493e-01],\n",
      "        [-2.2251e-01,  1.1390e-01,  1.4178e-01, -2.1990e-01, -2.1971e-01,\n",
      "          2.3361e-01,  2.5042e-01,  2.4997e-01,  1.6131e-01, -3.6291e-02],\n",
      "        [ 1.3914e-01,  4.6104e-04, -6.2812e-02,  1.8794e-01,  7.1866e-02,\n",
      "          1.3726e-01, -2.6967e-01,  9.6672e-02,  1.0508e-01, -1.6099e-01],\n",
      "        [ 6.3073e-02, -1.5161e-01,  2.1703e-02, -2.9920e-01,  2.0354e-01,\n",
      "          1.0851e-01,  4.5288e-02, -6.7945e-02,  2.9845e-01, -1.7819e-01],\n",
      "        [-4.4926e-03, -1.2555e-01,  2.2456e-01,  5.0215e-02,  1.5458e-01,\n",
      "          2.3699e-01,  1.9781e-01, -1.5093e-01, -6.7640e-02, -2.9136e-01],\n",
      "        [ 1.3814e-01, -9.7903e-03,  1.6657e-01, -7.9900e-03,  6.7492e-02,\n",
      "         -3.1558e-01,  1.1111e-01, -1.0265e-01, -1.3448e-01,  2.7833e-01],\n",
      "        [-2.7374e-01, -2.8474e-01,  2.1757e-01,  3.3047e-02,  1.7646e-01,\n",
      "         -3.6752e-02, -8.8245e-03, -2.6838e-02,  4.9899e-02, -2.9170e-02],\n",
      "        [ 1.8744e-01,  1.5380e-05, -1.6672e-01,  1.0177e-01,  7.0499e-02,\n",
      "          1.6065e-01,  2.4511e-01, -2.1395e-01, -1.2239e-01, -6.0680e-02],\n",
      "        [-2.1712e-02, -4.9985e-02,  2.5074e-01,  5.8832e-02, -1.3607e-01,\n",
      "          2.7831e-01,  1.5959e-01, -2.9177e-01,  2.4753e-01,  2.8376e-01],\n",
      "        [-1.5027e-02, -2.5069e-01,  2.5821e-01, -8.4855e-02, -2.5339e-01,\n",
      "          2.8787e-01,  5.4114e-02, -2.4298e-01, -1.7971e-01, -1.0722e-02],\n",
      "        [ 1.1627e-01,  1.5372e-01, -6.1621e-02, -1.8611e-01, -8.1659e-02,\n",
      "         -2.6498e-01, -1.7624e-01,  1.3485e-01,  5.4077e-02, -2.0634e-01],\n",
      "        [-5.4114e-03,  1.2143e-02, -2.4990e-01,  2.1332e-01, -1.9093e-03,\n",
      "         -1.0912e-01, -1.4270e-01,  2.0370e-01, -1.6868e-01,  2.3954e-01],\n",
      "        [-4.3587e-02, -1.7611e-01, -2.3831e-03, -2.2736e-01, -5.5187e-02,\n",
      "         -5.8809e-02,  1.3385e-01,  7.0088e-03,  1.8686e-01,  2.5389e-01],\n",
      "        [ 1.2890e-01, -1.9007e-01,  8.9788e-02, -1.4929e-01,  4.4363e-02,\n",
      "          7.8087e-02,  5.5263e-03,  2.0676e-01, -2.4516e-01, -2.8680e-01]],\n",
      "       requires_grad=True)\n",
      "Parameter containing:\n",
      "tensor([[ 0.0073, -0.0811, -0.1822,  0.2195,  0.2179,  0.0951, -0.1458, -0.1105,\n",
      "         -0.0278,  0.1111,  0.1007,  0.1007, -0.0724,  0.0937, -0.0886, -0.1957,\n",
      "         -0.1556, -0.1355,  0.1157, -0.0671]], requires_grad=True)\n"
     ]
    }
   ],
   "source": [
    "# Outputs\n",
    "m = BaseModel()\n",
    "print(m)\n",
    "print('########## ordered dictionary ########')\n",
    "print(m._modules.keys())\n",
    "print(m._modules['l1'].bias)\n",
    "print('')\n",
    "print('########## number ########')\n",
    "print(m[0].bias)\n",
    "print('')\n",
    "print('########## generator ########')    \n",
    "for v in m.modules():\n",
    "    if isinstance(v, nn.Linear):\n",
    "        print(v.weight)\n",
    "# In any case, you can access the layer's parameters and bias:     \n",
    "# Note that using generator you loop through all layers"
   ]
  },
  {
   "cell_type": "code",
   "execution_count": 31,
   "metadata": {},
   "outputs": [
    {
     "name": "stdout",
     "output_type": "stream",
     "text": [
      "input dimensionality: torch.Size([1, 10])\n",
      "output: tensor([[635.5591]], grad_fn=<AddmmBackward>)\n"
     ]
    }
   ],
   "source": [
    "# create random data, add batch dimension\n",
    "random_data = torch.Tensor(10).unsqueeze_(0)\n",
    "print('input dimensionality:', random_data.size())\n",
    "m.train()\n",
    "out = m(random_data)\n",
    "print('output:', out)"
   ]
  },
  {
   "cell_type": "code",
   "execution_count": 32,
   "metadata": {},
   "outputs": [
    {
     "name": "stdout",
     "output_type": "stream",
     "text": [
      "94043\n",
      "42721\n",
      "FraudModel(\n",
      "  (layer1): Sequential(\n",
      "    (0): Linear(in_features=28, out_features=512, bias=True)\n",
      "    (1): Sigmoid()\n",
      "    (2): BatchNorm1d(512, eps=1e-05, momentum=0.1, affine=True, track_running_stats=True)\n",
      "    (3): Dropout(p=0.5, inplace=False)\n",
      "    (4): Linear(in_features=512, out_features=1, bias=True)\n",
      "  )\n",
      ")\n",
      "Total number of parameters in the model: 17410\n"
     ]
    }
   ],
   "source": [
    "# Dataset interface\n",
    "# load one data point\n",
    "# load one data point\n",
    "class FraudData(data.Dataset):\n",
    "\n",
    "     def __init__(self, data_dir=None, stage=None):\n",
    "         self.dir = data_dir\n",
    "         self.stage = stage\n",
    "         if self.stage == \"train\":\n",
    "            self.df = self.load_csv_file(os.path.join(self.dir, 'train_data.csv'))            \n",
    "         elif self.stage == \"val\":\n",
    "            self.df = self.load_csv_file(os.path.join(self.dir, 'val_data.csv'))\n",
    "         elif self.stage == \"test\":\n",
    "            self.df = self.load_csv_file(os.path.join(self.dir, 'test_data.csv'))\n",
    "         print(self.__len__())\n",
    "            \n",
    "     def __len__(self):\n",
    "         return len(self.df)\n",
    "\n",
    "     def load_csv_file(self, path):\n",
    "         file = pandas.read_csv(path)\n",
    "         return file\n",
    "\n",
    "     # get one observation of the dataset, idx\n",
    "     # data: tensor of floats\n",
    "     # label: float tensor\n",
    "     def __getitem__(self, idx):\n",
    "         obs = self.df.iloc[idx]\n",
    "         #print(obs)\n",
    "         data = torch.Tensor(obs[2:-2].astype(float))\n",
    "         #print(data)\n",
    "         label = torch.Tensor([float(re.sub('\\W', '', obs[-1]))])\n",
    "         # data:num_variables\n",
    "         return idx, data, label\n",
    "\n",
    "class FraudModel(nn.Module):\n",
    "    \n",
    "      def __init__(self, num_inputs=None, stage=None):\n",
    "          super(FraudModel, self).__init__()\n",
    "          self.num_vars = num_inputs\n",
    "          self.stage = stage    \n",
    "          self.layer1 = self._make_block(self.num_vars)\n",
    "          self._init_weights()\n",
    "\n",
    "      def forward(self, x):\n",
    "          #print(\"SIZE\", x.size())\n",
    "          x = self.layer1(x)\n",
    "          # training: compute log of sigmoid\n",
    "          # testing/validation: compute sigmoid for accuracy metrics\n",
    "          # threshold=0.5\n",
    "          if self.stage == 'test':\n",
    "             if x<0.5:\n",
    "                x=torch.tensor([0], dtype=torch.float)\n",
    "             else:\n",
    "                x=torch.tensor([1], dtype=torch.float)                \n",
    "          return x\n",
    "\n",
    "      # initialize weights\n",
    "      def _init_weights(self):\n",
    "         for _m in self.modules():\n",
    "             if isinstance (_m, nn.Linear):\n",
    "                nn.init.xavier_uniform_(_m.weight.data)\n",
    "                _m.bias.data.fill_(0.1)\n",
    "             elif isinstance(_m, nn.BatchNorm1d):\n",
    "                _m.weight.data.fill_(1)\n",
    "                _m.bias.data.fill_(0.01)\n",
    "\n",
    "      # make one block of model\n",
    "      def _make_block(self, vars):          \n",
    "         linear1 = nn.Linear(vars, 512)\n",
    "         s = nn.Sigmoid()\n",
    "         b = nn.BatchNorm1d(512)\n",
    "         d = nn.Dropout()\n",
    "         linear2 = nn.Linear(512, 1)\n",
    "         layers=[]\n",
    "         layers.append(linear1)\n",
    "         layers.append(s)\n",
    "         layers.append(b)\n",
    "         layers.append(d)\n",
    "         layers.append(linear2)\n",
    "         layers = nn.Sequential(*layers)\n",
    "         return layers\n",
    "\n",
    "\n",
    "# training\n",
    "num_inputs = 28\n",
    "batch_size = 512\n",
    "val_batch_size=512\n",
    "train_data_args={'data_dir':'credit_card_data','stage':'train'}\n",
    "train_data = FraudData(**train_data_args)\n",
    "train_data_params = {'batch_size':batch_size, 'shuffle':True}\n",
    "train_dataloader = data.DataLoader(train_data, **train_data_params)\n",
    "# validation\n",
    "val_data_args={'data_dir':'credit_card_data','stage':'val'}\n",
    "val_data = FraudData(**val_data_args)\n",
    "val_data_params = {'batch_size':val_batch_size, 'shuffle':True}\n",
    "val_dataloader = data.DataLoader(val_data, **val_data_params)\n",
    "# model\n",
    "net_args = {'num_inputs':num_inputs, 'stage':'train'}\n",
    "model = FraudModel(**net_args)\n",
    "model = model.train()\n",
    "print(model)\n",
    "model=model.to(device)\n",
    "total_pars = 0\n",
    "for _n, _par in model.state_dict().items():\n",
    "    total_pars += _par.numel()\n",
    "print(\"Total number of parameters in the model: {:d}\".format(total_pars))\n",
    "\n",
    "optimizer_pars = {'lr':1e-4, 'weight_decay':1e-3}\n",
    "optimizer = optim.SGD(model.parameters(), **optimizer_pars)\n",
    "loss_function = nn.BCEWithLogitsLoss()\n",
    "\n",
    "# save the model weights + optimizer state to continue training later\n",
    "def save_checkpoint(e, model, optimizer):\n",
    "    ckpt = {'epoch':e, 'model_weights':model.state_dict(), 'optimizer_state':optimizer.state_dict()}\n",
    "    torch.save(ckpt, \"fraud_model_\"+str(e)+\".pth\")\n",
    "\n",
    "# load the model's pretrained weights\n",
    "def load_checkpoint(file_name):\n",
    "    ckpt = torch.load(file_name, map_location=device)\n",
    "    model_weights = ckpt['model_weights']\n",
    "    model.load_state_dict(model_weights)\n",
    "    print(\"Model's pretrained weights loaded!\")\n",
    "\n",
    "# Exercise: load pretrained model ('fraud_model_0.pth')\n",
    "total_epochs = 5\n",
    "current_loss = 0\n",
    "save_every=2"
   ]
  },
  {
   "cell_type": "code",
   "execution_count": 33,
   "metadata": {
    "scrolled": true
   },
   "outputs": [
    {
     "name": "stdout",
     "output_type": "stream",
     "text": [
      "Epoch:0, Train loss: 1.05, Validation loss: 1.02\n",
      "Epoch:1, Train loss: 1.01, Validation loss: 0.97\n",
      "Saving the checkpoint\n",
      "Epoch:2, Train loss: 0.96, Validation loss: 0.93\n",
      "Epoch:3, Train loss: 0.93, Validation loss: 0.91\n",
      "Saving the checkpoint\n",
      "Epoch:4, Train loss: 0.91, Validation loss: 0.89\n"
     ]
    }
   ],
   "source": [
    "train_loss_hist = []\n",
    "val_loss_hist = []\n",
    "for e in range(total_epochs):    \n",
    "    current_train_loss = 0\n",
    "    current_val_loss = 0\n",
    "    # create data iterator\n",
    "    for batch in train_dataloader:         \n",
    "        optimizer.zero_grad()\n",
    "        id, X,y = batch\n",
    "        if X.size()[0]==batch_size:\n",
    "           X,y = X.to(device), y.to(device)\n",
    "           output = model(X)\n",
    "           train_loss = loss_function(output.view(-1),y.view(-1))\n",
    "           train_loss.backward()\n",
    "           optimizer.step()\n",
    "           current_train_loss += train_loss\n",
    "    current_train_loss = current_train_loss/len(train_dataloader)\n",
    "    train_loss_hist.append(current_train_loss.item())\n",
    "    optimizer.zero_grad() \n",
    "    for batch in val_dataloader:        \n",
    "        id, X,y = batch\n",
    "        #print('v', X.size(), y.size())\n",
    "        if X.size()[0]==batch_size:\n",
    "            X,y = X.to(device), y.to(device)\n",
    "            output = model(X)\n",
    "            val_loss = loss_function(output.view(-1),y.view(-1))        \n",
    "            current_val_loss += val_loss\n",
    "    current_val_loss = current_val_loss/len(val_dataloader)        \n",
    "    val_loss_hist.append(current_val_loss.item())\n",
    "    print(\"Epoch:{0:d}, Train loss: {1:.2f}, Validation loss: {2:.2f}\".format(e, current_train_loss.item(), current_val_loss.item()))\n",
    "    if not (e+1)%save_every:\n",
    "        print(\"Saving the checkpoint\")\n",
    "        # Exercise (suggested): save the model as a checkpoint (dictionary with the epoch number, weights, hyperparameters, etc)        "
   ]
  },
  {
   "cell_type": "code",
   "execution_count": 36,
   "metadata": {},
   "outputs": [
    {
     "data": {
      "text/html": [
       "\n",
       "\n"
      ],
      "text/plain": [
       "<IPython.core.display.HTML object>"
      ]
     },
     "metadata": {},
     "output_type": "display_data"
    },
    {
     "data": {
      "image/png": "[encoded data removed]",
      "text/plain": [
       "<Figure size 720x360 with 2 Axes>"
      ]
     },
     "metadata": {
      "needs_background": "light"
     },
     "output_type": "display_data"
    }
   ],
   "source": [
    "display(HTML(\"\"\"\n",
    "\n",
    "\"\"\"))\n",
    "fig, (ax1, ax2)=plt.subplots(1,2) \n",
    "ax1.plot(train_loss_hist) \n",
    "ax2.plot(val_loss_hist)\n",
    "ax1.set_title(\"Train Loss\") \n",
    "ax2.set_title(\"Val Loss\") \n",
    "ax1.set_ylabel(\"Loss\") \n",
    "ax1.set_xlabel(\"Epochs\") \n",
    "ax2.set_ylabel(\"Loss\") \n",
    "ax2.set_xlabel(\"Epochs\") \n",
    "ax1.set_xticks(range(5)) \n",
    "ax2.set_xticks(range(5)) \n",
    "fig.set_size_inches(10, 5) \n",
    "fig.tight_layout() \n",
    "fig.savefig('DLILab1.png', bbox_inches='tight')"
   ]
  },
  {
   "cell_type": "code",
   "execution_count": 35,
   "metadata": {},
   "outputs": [
    {
     "name": "stdout",
     "output_type": "stream",
     "text": [
      "Total runtime: 653.12 seconds\n"
     ]
    }
   ],
   "source": [
    "end=time.time()\n",
    "print(\"Total runtime: {:.2f} seconds\".format(end-start))"
   ]
  }
 ],
 "metadata": {
  "celltoolbar": "Raw Cell Format",
  "kernelspec": {
   "display_name": "Python 3 (ipykernel)",
   "language": "python",
   "name": "python3"
  },
  "language_info": {
   "codemirror_mode": {
    "name": "ipython",
    "version": 3
   },
   "file_extension": ".py",
   "mimetype": "text/x-python",
   "name": "python",
   "nbconvert_exporter": "python",
   "pygments_lexer": "ipython3",
   "version": "3.9.5"
  }
 },
 "nbformat": 4,
 "nbformat_minor": 4
}
